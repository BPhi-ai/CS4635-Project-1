{
 "cells": [
  {
   "cell_type": "code",
   "execution_count": 1,
   "id": "7b3f07e0",
   "metadata": {},
   "outputs": [],
   "source": [
    "import os\n",
    "import numpy as np\n",
    "\n",
    "files = ['butanol.out','decanol.out','ethanol.out','heptanol.out','hexanol.out','methanol.out',\n",
    "         'nonanol.out','octanol.out','pentanol.out','propanol.out']\n",
    "\n",
    "OEFile = open('OEenergies.txt', 'w+')\n",
    "NRfile = open('NRenergies.txt', 'w+')\n",
    "TEFile = open('TEenergies.txt', 'w+')\n",
    "for x in files:\n",
    "    file = os.path.join('data', 'outfiles', x)\n",
    "    file_name = os.path.basename(x)\n",
    "    outfile = open(file, \"r\")\n",
    "    data = outfile.readlines()\n",
    "    outfile.close()\n",
    "    for line in data:\n",
    "        if 'Nuclear Repulsion Energy' in line:\n",
    "            NRE_line = line\n",
    "            words = NRE_line.split()\n",
    "            NRE_value = words[-1]\n",
    "            NRfile.write(F'{NRE_value} \\n')\n",
    "        if 'One-Electron Energy' in line:\n",
    "            OEE_line = line\n",
    "            words = OEE_line.split()\n",
    "            OEE_value = words[-1]\n",
    "            OEFile.write(F'{OEE_value} \\n')\n",
    "        if 'Two-Electron Energy' in line:\n",
    "            TEE_line = line\n",
    "            words = TEE_line.split()\n",
    "            TEE_value = words[-1]\n",
    "            TEFile.write(F'{TEE_value} \\n')\n",
    "OEFile.close()\n",
    "NRfile.close()\n",
    "TEFile.close()"
   ]
  },
  {
   "cell_type": "code",
   "execution_count": 9,
   "id": "25799cb1",
   "metadata": {},
   "outputs": [
    {
     "name": "stdout",
     "output_type": "stream",
     "text": [
      "['-1849.3460979523092647' '-371.6091065733360210' '-1235.7833275797281658'\n",
      " '-1041.3853428093557341' '-237.0184535171022162' '-1640.7603171991959243'\n",
      " '-1432.3344550246265499' '-859.4305557898035204' '-520.7252644350917308']\n"
     ]
    }
   ],
   "source": [
    "import matplotlib.pyplot\n",
    "\n",
    "OEEnergyFile = os.path.join('OEenergies.txt')\n",
    "OE = np.genfromtxt(fname=OEEnergyFile, delimiter=',', dtype= 'unicode')\n",
    "data = OE[1:]\n",
    "print(data)"
   ]
  },
  {
   "cell_type": "code",
   "execution_count": 3,
   "id": "b83b3764",
   "metadata": {},
   "outputs": [
    {
     "name": "stdout",
     "output_type": "stream",
     "text": [
      "['613.7597128077852631' '81.8049733131819323' '384.5869507081487768'\n",
      " '313.2545335634021626' '40.3674489553481308' '535.3371713222686594'\n",
      " '456.9935248829509646' '248.1444825084546437' '130.5146462048466844']\n"
     ]
    }
   ],
   "source": [
    "NREnergyFile = os.path.join('NRenergies.txt')\n",
    "NR = np.genfromtxt(fname=NREnergyFile, delimiter=',', dtype= 'unicode')\n",
    "data = NR[1:]\n",
    "print(data)"
   ]
  },
  {
   "cell_type": "code",
   "execution_count": 4,
   "id": "ec234ae2",
   "metadata": {},
   "outputs": [
    {
     "name": "stdout",
     "output_type": "stream",
     "text": [
      "['769.2027610045154233' '135.7128314944239378' '501.9224000008525763'\n",
      " '417.8922760207902343' '81.6029959430703542' '678.0766278686456872'\n",
      " '587.0298436862012750' '340.0846920823981350' '197.0822557329570373']\n"
     ]
    }
   ],
   "source": [
    "TEEnergyFile = os.path.join('TEenergies.txt')\n",
    "TE = np.genfromtxt(fname=TEEnergyFile, delimiter=',', dtype= 'unicode')\n",
    "data = TE[1:]\n",
    "print(data)"
   ]
  }
 ],
 "metadata": {
  "kernelspec": {
   "display_name": "Python 3 (ipykernel)",
   "language": "python",
   "name": "python3"
  },
  "language_info": {
   "codemirror_mode": {
    "name": "ipython",
    "version": 3
   },
   "file_extension": ".py",
   "mimetype": "text/x-python",
   "name": "python",
   "nbconvert_exporter": "python",
   "pygments_lexer": "ipython3",
   "version": "3.9.7"
  }
 },
 "nbformat": 4,
 "nbformat_minor": 5
}
